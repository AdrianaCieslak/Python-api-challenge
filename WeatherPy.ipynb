{
 "cells": [
  {
   "cell_type": "markdown",
   "metadata": {},
   "source": [
    "# WeatherPy\n",
    "----\n",
    "\n",
    "#### Note\n",
    "* Instructions have been included for each segment. You do not have to follow them exactly, but they are included to help you think through the steps."
   ]
  },
  {
   "cell_type": "code",
   "execution_count": 7,
   "metadata": {
    "scrolled": true
   },
   "outputs": [],
   "source": [
    "import requests\n",
    "import json\n",
    "import matplotlib.pyplot as plt\n",
    "import pandas as pd\n",
    "from scipy import stats\n",
    "from citipy import citipy\n",
    "from api_keys import weather_api_key\n",
    "from random import uniform"
   ]
  },
  {
   "cell_type": "markdown",
   "metadata": {},
   "source": [
    "## Generate Cities List"
   ]
  },
  {
   "cell_type": "code",
   "execution_count": 29,
   "metadata": {},
   "outputs": [
    {
     "name": "stdout",
     "output_type": "stream",
     "text": [
      "501\n"
     ]
    }
   ],
   "source": [
    "cities = []\n",
    "while len(cities) < 501:\n",
    "    random_lat = uniform(-90,90)\n",
    "    random_lng = uniform(-180, 180)\n",
    "    city= citipy.nearest_city(random_lat, random_lng).city_name\n",
    "    if city not in cities:    \n",
    "        cities.append(city)\n",
    "print(len(cities))  "
   ]
  },
  {
   "cell_type": "code",
   "execution_count": 30,
   "metadata": {},
   "outputs": [],
   "source": [
    "url = \"http://api.openweathermap.org/data/2.5/weather?units=Imperial&APPID=\" \n",
    "query_url = url + weather_api_key\n"
   ]
  },
  {
   "cell_type": "markdown",
   "metadata": {},
   "source": [
    "### Perform API Calls\n",
    "* Perform a weather check on each city using a series of successive API calls.\n",
    "* Include a print log of each city as it'sbeing processed (with the city number and city name).\n"
   ]
  },
  {
   "cell_type": "code",
   "execution_count": 33,
   "metadata": {
    "scrolled": true
   },
   "outputs": [
    {
     "name": "stdout",
     "output_type": "stream",
     "text": [
      "Currently processing kavieng\n",
      "Currently processing bethel\n",
      "Currently processing punta arenas\n",
      "Currently processing galiwinku\n",
      "Error processing galiwinku.\n",
      "Currently processing pervomayskoye\n",
      "Currently processing rikitea\n",
      "Currently processing weligama\n",
      "Currently processing kapaa\n",
      "Currently processing cape town\n",
      "Currently processing atuona\n",
      "Currently processing hasaki\n",
      "Currently processing lata\n",
      "Currently processing kabin buri\n",
      "Currently processing amderma\n",
      "Error processing amderma.\n",
      "Currently processing sentyabrskiy\n",
      "Error processing sentyabrskiy.\n",
      "Currently processing krasnoselkup\n",
      "Currently processing belushya guba\n",
      "Error processing belushya guba.\n",
      "Currently processing varberg\n",
      "Currently processing ushuaia\n",
      "Currently processing bonthe\n",
      "Currently processing bluff\n",
      "Currently processing avarua\n",
      "Currently processing mataura\n",
      "Currently processing fort nelson\n",
      "Currently processing eureka\n",
      "Currently processing luderitz\n",
      "Currently processing contai\n",
      "Currently processing olymskiy\n",
      "Error processing olymskiy.\n",
      "Currently processing provideniya\n",
      "Currently processing baghdad\n",
      "Currently processing tambacounda\n",
      "Currently processing makung\n",
      "Error processing makung.\n",
      "Currently processing bredasdorp\n",
      "Currently processing palabuhanratu\n",
      "Error processing palabuhanratu.\n",
      "Currently processing gersthofen\n",
      "Currently processing port blair\n",
      "Currently processing bressanone\n",
      "Currently processing cayenne\n",
      "Currently processing severo-kurilsk\n",
      "Currently processing tuktoyaktuk\n",
      "Currently processing priiskovyy\n",
      "Currently processing acajutla\n",
      "Currently processing bow island\n",
      "Currently processing talnakh\n",
      "Currently processing gurgan\n",
      "Error processing gurgan.\n",
      "Currently processing volnoye\n",
      "Currently processing kahului\n",
      "Currently processing saldanha\n",
      "Currently processing rio tuba\n",
      "Currently processing salalah\n",
      "Currently processing walvis bay\n",
      "Currently processing kodiak\n",
      "Currently processing shimoda\n",
      "Currently processing saint-augustin\n",
      "Currently processing port elizabeth\n",
      "Currently processing antalaha\n",
      "Currently processing nizwa\n",
      "Currently processing albany\n",
      "Currently processing bambous virieux\n",
      "Currently processing upernavik\n",
      "Currently processing dunedin\n",
      "Currently processing kungurtug\n",
      "Currently processing ust-ilimsk\n",
      "Currently processing anadyr\n",
      "Currently processing sitka\n",
      "Currently processing oranjestad\n",
      "Currently processing saleaula\n",
      "Error processing saleaula.\n",
      "Currently processing jaciara\n",
      "Currently processing mys shmidta\n",
      "Error processing mys shmidta.\n",
      "Currently processing kununurra\n",
      "Currently processing saint anthony\n",
      "Currently processing wahran\n",
      "Error processing wahran.\n",
      "Currently processing asau\n",
      "Currently processing barcelos\n",
      "Currently processing chuy\n",
      "Currently processing taolanaro\n",
      "Error processing taolanaro.\n",
      "Currently processing ambovombe\n",
      "Currently processing busselton\n",
      "Currently processing road town\n",
      "Currently processing saskylakh\n",
      "Currently processing castro\n",
      "Currently processing tasiilaq\n",
      "Currently processing zhezkazgan\n",
      "Currently processing hobart\n",
      "Currently processing port alfred\n",
      "Currently processing lebu\n",
      "Currently processing chokurdakh\n",
      "Currently processing hithadhoo\n",
      "Currently processing oranjemund\n",
      "Currently processing gushikawa\n",
      "Currently processing ilulissat\n",
      "Currently processing mount gambier\n",
      "Currently processing qaanaaq\n",
      "Currently processing kudahuvadhoo\n",
      "Currently processing san lawrenz\n",
      "Currently processing dikson\n",
      "Currently processing tiksi\n",
      "Currently processing geraldton\n",
      "Currently processing mullaitivu\n",
      "Error processing mullaitivu.\n",
      "Currently processing lorengau\n",
      "Currently processing moose factory\n",
      "Currently processing siwan\n",
      "Currently processing taoudenni\n",
      "Currently processing esik\n",
      "Currently processing bacolod\n",
      "Currently processing vaini\n",
      "Currently processing galesong\n",
      "Currently processing thinadhoo\n",
      "Currently processing balsas\n",
      "Currently processing wajid\n",
      "Currently processing los llanos de aridane\n",
      "Currently processing huarmey\n",
      "Currently processing chateaubelair\n",
      "Currently processing una\n",
      "Currently processing calabar\n",
      "Currently processing puerto ayora\n",
      "Currently processing jamestown\n",
      "Currently processing norsup\n",
      "Currently processing leningradskiy\n",
      "Currently processing carnarvon\n",
      "Currently processing ketchikan\n",
      "Currently processing tautira\n",
      "Currently processing iquique\n",
      "Currently processing butaritari\n",
      "Currently processing thunder bay\n",
      "Currently processing new norfolk\n",
      "Currently processing makakilo city\n",
      "Currently processing torbay\n",
      "Currently processing barrow\n",
      "Currently processing ribeira grande\n",
      "Currently processing razdolinsk\n",
      "Currently processing orgun\n",
      "Error processing orgun.\n",
      "Currently processing coquimbo\n",
      "Currently processing tuatapere\n",
      "Currently processing georgetown\n",
      "Currently processing saint george\n",
      "Currently processing pop\n",
      "Currently processing hamilton\n",
      "Currently processing the valley\n",
      "Currently processing mushie\n",
      "Currently processing salina\n",
      "Currently processing fairbanks\n",
      "Currently processing constitucion\n",
      "Currently processing bahia blanca\n",
      "Currently processing kamalasai\n",
      "Currently processing samusu\n",
      "Error processing samusu.\n",
      "Currently processing gravdal\n",
      "Currently processing altus\n",
      "Currently processing grand river south east\n",
      "Error processing grand river south east.\n",
      "Currently processing uzumlu\n",
      "Error processing uzumlu.\n",
      "Currently processing mar del plata\n",
      "Currently processing khadzhalmakhi\n",
      "Currently processing cidreira\n",
      "Currently processing norman wells\n",
      "Currently processing venafro\n",
      "Currently processing hermanus\n",
      "Currently processing san pedro\n",
      "Currently processing kuche\n",
      "Error processing kuche.\n",
      "Currently processing bandarbeyla\n",
      "Currently processing pandan\n",
      "Currently processing tecoanapa\n",
      "Currently processing warman\n",
      "Currently processing emerald\n",
      "Currently processing katsuura\n",
      "Currently processing vicuna\n",
      "Currently processing tuni\n",
      "Currently processing varhaug\n",
      "Currently processing kaitangata\n",
      "Currently processing nuuk\n",
      "Currently processing namatanai\n",
      "Currently processing lao cai\n",
      "Currently processing port-gentil\n",
      "Currently processing san cristobal\n",
      "Currently processing beringovskiy\n",
      "Currently processing soroti\n",
      "Currently processing hualmay\n",
      "Currently processing praia da vitoria\n",
      "Currently processing luanda\n",
      "Currently processing nantucket\n",
      "Currently processing yellowknife\n",
      "Currently processing ouahigouya\n",
      "Currently processing saryagash\n",
      "Currently processing omsukchan\n",
      "Currently processing fortuna\n",
      "Currently processing sorland\n",
      "Currently processing piacabucu\n",
      "Currently processing sanica\n",
      "Currently processing airai\n",
      "Currently processing clyde river\n",
      "Currently processing broken hill\n",
      "Currently processing east london\n",
      "Currently processing alugan\n",
      "Currently processing krasnyy chikoy\n",
      "Currently processing thompson\n",
      "Currently processing hami\n",
      "Currently processing kachug\n",
      "Currently processing jibuti\n",
      "Currently processing durban\n",
      "Currently processing rocha\n",
      "Currently processing namibe\n",
      "Currently processing kavaratti\n",
      "Currently processing mahebourg\n",
      "Currently processing khatanga\n",
      "Currently processing marrakesh\n",
      "Currently processing victoria\n",
      "Currently processing acapulco\n",
      "Currently processing nishihara\n",
      "Currently processing tumannyy\n",
      "Error processing tumannyy.\n",
      "Currently processing leua\n",
      "Currently processing hovd\n",
      "Currently processing awbari\n",
      "Currently processing liverpool\n",
      "Currently processing alofi\n",
      "Currently processing karkaralinsk\n",
      "Error processing karkaralinsk.\n",
      "Currently processing tanout\n",
      "Currently processing evensk\n",
      "Currently processing funtua\n",
      "Currently processing neyshabur\n",
      "Currently processing soyo\n",
      "Currently processing nome\n",
      "Currently processing pacific grove\n",
      "Currently processing zeya\n",
      "Currently processing sambava\n",
      "Currently processing gravelbourg\n",
      "Currently processing launceston\n",
      "Currently processing qaqortoq\n",
      "Currently processing nanortalik\n",
      "Currently processing zhigansk\n",
      "Currently processing buala\n",
      "Currently processing hihifo\n",
      "Error processing hihifo.\n",
      "Currently processing attawapiskat\n",
      "Error processing attawapiskat.\n",
      "Currently processing nha trang\n",
      "Currently processing yalutorovsk\n",
      "Currently processing ciledug\n",
      "Error processing ciledug.\n",
      "Currently processing pangnirtung\n",
      "Currently processing de-kastri\n",
      "Currently processing linares\n",
      "Currently processing weihe\n",
      "Currently processing san quintin\n",
      "Currently processing abashiri\n",
      "Currently processing vila velha\n",
      "Currently processing moron\n",
      "Currently processing ancud\n",
      "Currently processing codrington\n",
      "Currently processing itapirapua\n",
      "Currently processing la orilla\n",
      "Currently processing poum\n",
      "Currently processing boves\n",
      "Currently processing tuggurt\n",
      "Error processing tuggurt.\n",
      "Currently processing bolshoye nagatkino\n"
     ]
    },
    {
     "name": "stdout",
     "output_type": "stream",
     "text": [
      "Currently processing naranjal\n",
      "Currently processing tombouctou\n",
      "Currently processing tucurui\n",
      "Currently processing illoqqortoormiut\n",
      "Error processing illoqqortoormiut.\n",
      "Currently processing khandyga\n",
      "Currently processing ndele\n",
      "Currently processing tiquisio\n",
      "Currently processing sakakah\n",
      "Currently processing esso\n",
      "Currently processing lazaro cardenas\n",
      "Currently processing kampot\n",
      "Currently processing kruisfontein\n",
      "Currently processing baishishan\n",
      "Currently processing camocim\n",
      "Currently processing queretaro\n",
      "Currently processing tura\n",
      "Currently processing bonavista\n",
      "Currently processing arauco\n",
      "Currently processing ostrovnoy\n",
      "Currently processing paraiso\n",
      "Currently processing berlevag\n",
      "Currently processing anisoc\n",
      "Currently processing nizhneyansk\n",
      "Error processing nizhneyansk.\n",
      "Currently processing yulara\n",
      "Currently processing skibbereen\n",
      "Currently processing santa maria\n",
      "Currently processing tsiroanomandidy\n",
      "Currently processing pingliang\n",
      "Currently processing bouna\n",
      "Currently processing hilo\n",
      "Currently processing yeppoon\n",
      "Currently processing pevek\n",
      "Currently processing tigil\n",
      "Currently processing sao filipe\n",
      "Currently processing vanimo\n",
      "Currently processing paradwip\n",
      "Error processing paradwip.\n",
      "Currently processing alimanguan\n",
      "Error processing alimanguan.\n",
      "Currently processing erenhot\n",
      "Currently processing vaitupu\n",
      "Error processing vaitupu.\n",
      "Currently processing san matias\n",
      "Currently processing fevralsk\n",
      "Error processing fevralsk.\n",
      "Currently processing molepolole\n",
      "Currently processing porto nacional\n",
      "Currently processing rio gallegos\n",
      "Currently processing marienburg\n",
      "Currently processing port hedland\n",
      "Currently processing kuusamo\n",
      "Currently processing algiers\n",
      "Currently processing shenzhen\n",
      "Currently processing neuquen\n",
      "Currently processing atbasar\n",
      "Currently processing ust-nera\n",
      "Currently processing esperance\n",
      "Currently processing dire dawa\n",
      "Currently processing bafata\n",
      "Currently processing la asuncion\n",
      "Currently processing vila\n",
      "Currently processing kuito\n",
      "Currently processing hambantota\n",
      "Currently processing saint-francois\n",
      "Currently processing vardo\n",
      "Currently processing lasa\n",
      "Currently processing tsogni\n",
      "Currently processing faanui\n",
      "Currently processing port lincoln\n",
      "Currently processing kommunisticheskiy\n",
      "Currently processing souillac\n",
      "Currently processing asyut\n",
      "Currently processing korla\n",
      "Currently processing saint-joseph\n",
      "Currently processing avera\n",
      "Currently processing nioro\n",
      "Currently processing beya\n",
      "Currently processing vao\n",
      "Currently processing gat\n",
      "Currently processing cherskiy\n",
      "Currently processing batemans bay\n",
      "Currently processing tignere\n",
      "Currently processing qandala\n",
      "Currently processing fort payne\n",
      "Currently processing strakonice\n",
      "Currently processing saint-philippe\n",
      "Currently processing la palma\n",
      "Currently processing yangambi\n",
      "Currently processing tsihombe\n",
      "Error processing tsihombe.\n",
      "Currently processing asilah\n",
      "Currently processing lincoln\n",
      "Currently processing tessalit\n",
      "Currently processing xapuri\n",
      "Currently processing asfi\n",
      "Currently processing basudebpur\n",
      "Currently processing benghazi\n",
      "Currently processing kralendijk\n",
      "Currently processing devils lake\n",
      "Currently processing baykit\n",
      "Currently processing kaeo\n",
      "Currently processing watsa\n",
      "Currently processing zheleznogorsk-ilimskiy\n",
      "Currently processing nouadhibou\n",
      "Currently processing nador\n",
      "Currently processing alihe\n",
      "Currently processing marzuq\n",
      "Currently processing yinchuan\n",
      "Currently processing chihuahua\n",
      "Currently processing grand gaube\n",
      "Currently processing mabaruma\n",
      "Currently processing severo-yeniseyskiy\n",
      "Currently processing samalaeulu\n",
      "Error processing samalaeulu.\n",
      "Currently processing pingzhuang\n",
      "Currently processing rungata\n",
      "Error processing rungata.\n",
      "Currently processing santa cruz del sur\n",
      "Currently processing kharan\n",
      "Currently processing undory\n",
      "Currently processing vero beach\n",
      "Currently processing rio verde de mato grosso\n",
      "Currently processing sawakin\n",
      "Currently processing almeria\n",
      "Currently processing quatre cocos\n",
      "Currently processing cap malheureux\n",
      "Currently processing mwaro\n",
      "Currently processing caravelas\n",
      "Currently processing husavik\n",
      "Currently processing hongjiang\n",
      "Currently processing saint-louis\n",
      "Currently processing tres arroyos\n",
      "Currently processing barentsburg\n",
      "Error processing barentsburg.\n",
      "Currently processing leh\n",
      "Currently processing zaysan\n",
      "Currently processing santa\n",
      "Currently processing te anau\n",
      "Currently processing los alamos\n",
      "Currently processing port moresby\n",
      "Currently processing state college\n",
      "Currently processing goundi\n",
      "Currently processing liberal\n",
      "Currently processing longyearbyen\n",
      "Currently processing san jeronimo\n",
      "Currently processing college\n",
      "Currently processing verkhoyansk\n",
      "Currently processing bagdarin\n",
      "Currently processing canning\n",
      "Currently processing kapchorwa\n",
      "Currently processing issenye\n",
      "Currently processing arraial do cabo\n",
      "Currently processing batagay-alyta\n",
      "Currently processing atasu\n",
      "Currently processing kenitra\n",
      "Currently processing klaksvik\n",
      "Currently processing biak\n",
      "Currently processing chenghai\n",
      "Currently processing praya\n",
      "Currently processing chingirlau\n",
      "Currently processing adrar\n",
      "Currently processing mizan teferi\n",
      "Currently processing cockburn town\n",
      "Currently processing pakxan\n",
      "Currently processing sokolo\n",
      "Currently processing vila franca do campo\n",
      "Currently processing port hawkesbury\n",
      "Currently processing lagunas\n",
      "Currently processing ponta do sol\n",
      "Currently processing belaya gora\n",
      "Currently processing russell\n",
      "Currently processing sept-iles\n",
      "Currently processing serenje\n",
      "Currently processing lavrentiya\n",
      "Currently processing mount isa\n",
      "Currently processing bosaso\n",
      "Currently processing usinsk\n",
      "Currently processing wanning\n",
      "Currently processing fare\n",
      "Currently processing kristiinankaupunki\n",
      "Currently processing allada\n",
      "Currently processing sao gabriel da cachoeira\n",
      "Currently processing cochrane\n",
      "Currently processing isangel\n",
      "Currently processing san rafael\n",
      "Currently processing rio grande\n",
      "Currently processing marihatag\n",
      "Currently processing camacha\n",
      "Currently processing iqaluit\n",
      "Currently processing sahrak\n",
      "Error processing sahrak.\n",
      "Currently processing karratha\n",
      "Currently processing yarim\n",
      "Currently processing xinzhi\n",
      "Currently processing waipawa\n",
      "Currently processing hofn\n",
      "Currently processing nara\n",
      "Currently processing north platte\n",
      "Currently processing brokopondo\n",
      "Currently processing deputatskiy\n",
      "Currently processing maghama\n",
      "Error processing maghama.\n",
      "Currently processing alto araguaia\n",
      "Currently processing kaspiysk\n",
      "Currently processing saravan\n",
      "Currently processing muroto\n",
      "Currently processing kutum\n",
      "Currently processing shchelyayur\n",
      "Error processing shchelyayur.\n",
      "Currently processing mayahi\n",
      "Currently processing padang\n",
      "Currently processing luba\n",
      "Currently processing grants\n",
      "Currently processing sibolga\n",
      "Currently processing taltal\n",
      "Currently processing marawi\n",
      "Currently processing luocheng\n",
      "Currently processing rosarito\n",
      "Currently processing pakokku\n",
      "Currently processing toyo\n",
      "Currently processing povoa de lanhoso\n",
      "Currently processing lompoc\n",
      "Currently processing pavlodar\n",
      "Currently processing pouebo\n",
      "Currently processing nikolskoye\n",
      "Currently processing grand-lahou\n",
      "Currently processing grafton\n",
      "Currently processing varnavino\n",
      "Currently processing kamenskoye\n",
      "Error processing kamenskoye.\n",
      "Currently processing contamana\n",
      "Currently processing kalemie\n",
      "Currently processing okha\n",
      "Currently processing bathsheba\n",
      "Currently processing saint-pierre\n",
      "Currently processing champerico\n",
      "Currently processing grindavik\n",
      "Currently processing kashi\n",
      "Currently processing murchison\n",
      "Currently processing phu ly\n",
      "Currently processing ayan\n",
      "Currently processing mahadday weyne\n",
      "Error processing mahadday weyne.\n",
      "Currently processing tacuati\n",
      "Currently processing svetlogorsk\n",
      "Currently processing atar\n",
      "Currently processing plettenberg bay\n",
      "Currently processing bathurst\n",
      "Currently processing nalut\n",
      "Currently processing yar-sale\n",
      "Currently processing kirakira\n",
      "Currently processing onguday\n",
      "Currently processing yumen\n",
      "Currently processing yirol\n",
      "Error processing yirol.\n",
      "Currently processing pangoa\n",
      "Currently processing tongliao\n",
      "Currently processing tongren\n",
      "Currently processing kuzhenkino\n",
      "Currently processing semnan\n",
      "Currently processing sarmanovo\n",
      "Currently processing naryan-mar\n",
      "Currently processing jiujiang\n",
      "Currently processing narsaq\n",
      "Currently processing riviere-au-renard\n"
     ]
    }
   ],
   "source": [
    "wind = []\n",
    "lat = []\n",
    "lon = []\n",
    "temp_max = []\n",
    "humidity = []\n",
    "cloudiness = []\n",
    "country = []\n",
    "valid_cities = []\n",
    "url = \"http://api.openweathermap.org/data/2.5/weather?units=Imperial&APPID=\" \n",
    "query_url = url + weather_api_key\n",
    "\n",
    "for city in cities:\n",
    "    try:\n",
    "        print(f\"Currently processing {city}\")\n",
    "        city_url = query_url + \"&q=\" + city\n",
    "        response = requests.get(city_url).json()\n",
    "        wind.append(response[\"wind\"][\"speed\"])\n",
    "        lat.append(response[\"coord\"][\"lat\"])\n",
    "        lon.append(response[\"coord\"][\"lon\"])\n",
    "        temp_max.append(response[\"main\"][\"temp_max\"])\n",
    "        humidity.append(response[\"main\"][\"humidity\"])\n",
    "        cloudiness.append(response[\"clouds\"][\"all\"])\n",
    "        country.append(response[\"sys\"][\"country\"])\n",
    "        valid_cities.append(city)\n",
    "    except:\n",
    "        print(f\"Error processing {city}.\")"
   ]
  },
  {
   "cell_type": "markdown",
   "metadata": {},
   "source": [
    "### Convert Raw Data to DataFrame\n",
    "* Export the city data into a .csv.\n",
    "* Display the DataFrame"
   ]
  },
  {
   "cell_type": "code",
   "execution_count": 43,
   "metadata": {},
   "outputs": [
    {
     "data": {
      "text/html": [
       "<div>\n",
       "<style scoped>\n",
       "    .dataframe tbody tr th:only-of-type {\n",
       "        vertical-align: middle;\n",
       "    }\n",
       "\n",
       "    .dataframe tbody tr th {\n",
       "        vertical-align: top;\n",
       "    }\n",
       "\n",
       "    .dataframe thead th {\n",
       "        text-align: right;\n",
       "    }\n",
       "</style>\n",
       "<table border=\"1\" class=\"dataframe\">\n",
       "  <thead>\n",
       "    <tr style=\"text-align: right;\">\n",
       "      <th></th>\n",
       "      <th>City</th>\n",
       "      <th>Lat</th>\n",
       "      <th>Lng</th>\n",
       "      <th>Max temp</th>\n",
       "      <th>Humidity</th>\n",
       "      <th>Cloudiness</th>\n",
       "      <th>Wind Speed</th>\n",
       "      <th>Country</th>\n",
       "    </tr>\n",
       "  </thead>\n",
       "  <tbody>\n",
       "    <tr>\n",
       "      <th>0</th>\n",
       "      <td>kavieng</td>\n",
       "      <td>-2.57</td>\n",
       "      <td>150.80</td>\n",
       "      <td>82.63</td>\n",
       "      <td>69</td>\n",
       "      <td>2</td>\n",
       "      <td>7.76</td>\n",
       "      <td>PG</td>\n",
       "    </tr>\n",
       "    <tr>\n",
       "      <th>1</th>\n",
       "      <td>bethel</td>\n",
       "      <td>41.37</td>\n",
       "      <td>-73.41</td>\n",
       "      <td>69.01</td>\n",
       "      <td>72</td>\n",
       "      <td>1</td>\n",
       "      <td>3.80</td>\n",
       "      <td>US</td>\n",
       "    </tr>\n",
       "    <tr>\n",
       "      <th>2</th>\n",
       "      <td>punta arenas</td>\n",
       "      <td>-53.15</td>\n",
       "      <td>-70.92</td>\n",
       "      <td>50.00</td>\n",
       "      <td>61</td>\n",
       "      <td>75</td>\n",
       "      <td>27.51</td>\n",
       "      <td>CL</td>\n",
       "    </tr>\n",
       "    <tr>\n",
       "      <th>3</th>\n",
       "      <td>pervomayskoye</td>\n",
       "      <td>43.92</td>\n",
       "      <td>46.71</td>\n",
       "      <td>69.12</td>\n",
       "      <td>60</td>\n",
       "      <td>0</td>\n",
       "      <td>10.40</td>\n",
       "      <td>RU</td>\n",
       "    </tr>\n",
       "    <tr>\n",
       "      <th>4</th>\n",
       "      <td>rikitea</td>\n",
       "      <td>-23.12</td>\n",
       "      <td>-134.97</td>\n",
       "      <td>72.14</td>\n",
       "      <td>80</td>\n",
       "      <td>54</td>\n",
       "      <td>11.68</td>\n",
       "      <td>PF</td>\n",
       "    </tr>\n",
       "  </tbody>\n",
       "</table>\n",
       "</div>"
      ],
      "text/plain": [
       "            City    Lat     Lng  Max temp  Humidity  Cloudiness  Wind Speed  \\\n",
       "0        kavieng  -2.57  150.80     82.63        69           2        7.76   \n",
       "1         bethel  41.37  -73.41     69.01        72           1        3.80   \n",
       "2   punta arenas -53.15  -70.92     50.00        61          75       27.51   \n",
       "3  pervomayskoye  43.92   46.71     69.12        60           0       10.40   \n",
       "4        rikitea -23.12 -134.97     72.14        80          54       11.68   \n",
       "\n",
       "  Country  \n",
       "0      PG  \n",
       "1      US  \n",
       "2      CL  \n",
       "3      RU  \n",
       "4      PF  "
      ]
     },
     "execution_count": 43,
     "metadata": {},
     "output_type": "execute_result"
    }
   ],
   "source": [
    " df = pd.DataFrame({\"City\": valid_cities,\n",
    "                \"Lat\": lat,\n",
    "                \"Lng\": lon,\n",
    "                \"Max temp\": temp_max,\n",
    "                \"Humidity\": humidity,\n",
    "                \"Cloudiness\": cloudiness,\n",
    "                \"Wind Speed\": wind,\n",
    "                \"Country\": country,\n",
    "                })\n",
    "df.head()"
   ]
  },
  {
   "cell_type": "code",
   "execution_count": 40,
   "metadata": {},
   "outputs": [],
   "source": [
    "df.to_csv(\"CityWeather.csv\", index=False, header=True)"
   ]
  },
  {
   "cell_type": "code",
   "execution_count": 41,
   "metadata": {},
   "outputs": [
    {
     "data": {
      "text/html": [
       "<div>\n",
       "<style scoped>\n",
       "    .dataframe tbody tr th:only-of-type {\n",
       "        vertical-align: middle;\n",
       "    }\n",
       "\n",
       "    .dataframe tbody tr th {\n",
       "        vertical-align: top;\n",
       "    }\n",
       "\n",
       "    .dataframe thead th {\n",
       "        text-align: right;\n",
       "    }\n",
       "</style>\n",
       "<table border=\"1\" class=\"dataframe\">\n",
       "  <thead>\n",
       "    <tr style=\"text-align: right;\">\n",
       "      <th></th>\n",
       "      <th>Lat</th>\n",
       "      <th>Lng</th>\n",
       "      <th>Max temp</th>\n",
       "      <th>Humidity</th>\n",
       "      <th>Cloudiness</th>\n",
       "      <th>Wind Speed</th>\n",
       "    </tr>\n",
       "  </thead>\n",
       "  <tbody>\n",
       "    <tr>\n",
       "      <th>count</th>\n",
       "      <td>461.000000</td>\n",
       "      <td>461.000000</td>\n",
       "      <td>461.000000</td>\n",
       "      <td>461.000000</td>\n",
       "      <td>461.000000</td>\n",
       "      <td>461.000000</td>\n",
       "    </tr>\n",
       "    <tr>\n",
       "      <th>mean</th>\n",
       "      <td>19.170065</td>\n",
       "      <td>20.797896</td>\n",
       "      <td>67.171171</td>\n",
       "      <td>67.919740</td>\n",
       "      <td>50.652928</td>\n",
       "      <td>8.246464</td>\n",
       "    </tr>\n",
       "    <tr>\n",
       "      <th>std</th>\n",
       "      <td>33.535600</td>\n",
       "      <td>90.393801</td>\n",
       "      <td>17.805907</td>\n",
       "      <td>21.949251</td>\n",
       "      <td>37.953188</td>\n",
       "      <td>5.960840</td>\n",
       "    </tr>\n",
       "    <tr>\n",
       "      <th>min</th>\n",
       "      <td>-54.800000</td>\n",
       "      <td>-175.200000</td>\n",
       "      <td>20.170000</td>\n",
       "      <td>8.000000</td>\n",
       "      <td>0.000000</td>\n",
       "      <td>0.160000</td>\n",
       "    </tr>\n",
       "    <tr>\n",
       "      <th>25%</th>\n",
       "      <td>-8.840000</td>\n",
       "      <td>-58.620000</td>\n",
       "      <td>53.600000</td>\n",
       "      <td>58.000000</td>\n",
       "      <td>12.000000</td>\n",
       "      <td>4.000000</td>\n",
       "    </tr>\n",
       "    <tr>\n",
       "      <th>50%</th>\n",
       "      <td>20.930000</td>\n",
       "      <td>20.650000</td>\n",
       "      <td>70.830000</td>\n",
       "      <td>73.000000</td>\n",
       "      <td>53.000000</td>\n",
       "      <td>6.710000</td>\n",
       "    </tr>\n",
       "    <tr>\n",
       "      <th>75%</th>\n",
       "      <td>47.670000</td>\n",
       "      <td>102.500000</td>\n",
       "      <td>80.600000</td>\n",
       "      <td>84.000000</td>\n",
       "      <td>90.000000</td>\n",
       "      <td>11.180000</td>\n",
       "    </tr>\n",
       "    <tr>\n",
       "      <th>max</th>\n",
       "      <td>78.220000</td>\n",
       "      <td>179.320000</td>\n",
       "      <td>110.950000</td>\n",
       "      <td>100.000000</td>\n",
       "      <td>100.000000</td>\n",
       "      <td>39.150000</td>\n",
       "    </tr>\n",
       "  </tbody>\n",
       "</table>\n",
       "</div>"
      ],
      "text/plain": [
       "              Lat         Lng    Max temp    Humidity  Cloudiness  Wind Speed\n",
       "count  461.000000  461.000000  461.000000  461.000000  461.000000  461.000000\n",
       "mean    19.170065   20.797896   67.171171   67.919740   50.652928    8.246464\n",
       "std     33.535600   90.393801   17.805907   21.949251   37.953188    5.960840\n",
       "min    -54.800000 -175.200000   20.170000    8.000000    0.000000    0.160000\n",
       "25%     -8.840000  -58.620000   53.600000   58.000000   12.000000    4.000000\n",
       "50%     20.930000   20.650000   70.830000   73.000000   53.000000    6.710000\n",
       "75%     47.670000  102.500000   80.600000   84.000000   90.000000   11.180000\n",
       "max     78.220000  179.320000  110.950000  100.000000  100.000000   39.150000"
      ]
     },
     "execution_count": 41,
     "metadata": {},
     "output_type": "execute_result"
    }
   ],
   "source": [
    "df.describe()"
   ]
  },
  {
   "cell_type": "markdown",
   "metadata": {},
   "source": [
    "## Plotting the Data\n",
    "* Use proper labeling of the plots using plot titles (including date of analysis) and axes labels.\n",
    "* Save the plotted figures as .pngs."
   ]
  },
  {
   "cell_type": "markdown",
   "metadata": {},
   "source": [
    "## Latitude vs. Temperature Plot"
   ]
  },
  {
   "cell_type": "code",
   "execution_count": 49,
   "metadata": {
    "scrolled": true
   },
   "outputs": [
    {
     "data": {
      "image/png": "[encoded data removed]",
      "text/plain": [
       "<Figure size 432x288 with 1 Axes>"
      ]
     },
     "metadata": {
      "needs_background": "light"
     },
     "output_type": "display_data"
    }
   ],
   "source": [
    "plt.scatter(df[\"Lat\"], df[\"Max temp\"], edgecolors=\"black\")\n",
    "\n",
    "plt.title(\"City Latitude vs. Max Temperature\")\n",
    "plt.xlabel(\"Latitude\")\n",
    "plt.ylabel(\"Max Temperature (F)\")\n",
    "plt.grid(True)\n",
    "\n",
    "plt.savefig(\"City Latitude vs. Max Temperature.png\")"
   ]
  },
  {
   "cell_type": "markdown",
   "metadata": {},
   "source": [
    "## Latitude vs. Humidity Plot"
   ]
  },
  {
   "cell_type": "code",
   "execution_count": 50,
   "metadata": {},
   "outputs": [
    {
     "data": {
      "image/png": "[encoded data removed]",
      "text/plain": [
       "<Figure size 432x288 with 1 Axes>"
      ]
     },
     "metadata": {
      "needs_background": "light"
     },
     "output_type": "display_data"
    }
   ],
   "source": [
    "plt.scatter(df[\"Lat\"], df[\"Humidity\"], edgecolors=\"black\")\n",
    "\n",
    "plt.title(\"City Latitude vs. Humidity\")\n",
    "plt.xlabel(\"Latitude\")\n",
    "plt.ylabel(\"Humidity (%)\")\n",
    "plt.grid(True)\n",
    "\n",
    "plt.savefig(\"City Latitude vs. Humidity.png\")"
   ]
  },
  {
   "cell_type": "markdown",
   "metadata": {},
   "source": [
    "## Latitude vs. Cloudiness Plot"
   ]
  },
  {
   "cell_type": "code",
   "execution_count": 51,
   "metadata": {},
   "outputs": [
    {
     "data": {
      "image/png": "[encoded data removed]",
      "text/plain": [
       "<Figure size 432x288 with 1 Axes>"
      ]
     },
     "metadata": {
      "needs_background": "light"
     },
     "output_type": "display_data"
    }
   ],
   "source": [
    "plt.scatter(df[\"Lat\"], df[\"Cloudiness\"], edgecolor=\"black\")\n",
    "\n",
    "plt.title(\"City Latitude vs. Cloudiness\")\n",
    "plt.xlabel(\"Latitude\")\n",
    "plt.ylabel(\"Cloudiness (%)\")\n",
    "plt.grid(True)\n",
    "\n",
    "plt.savefig(\"City Latitude vs. Cloudiness.png\")"
   ]
  },
  {
   "cell_type": "markdown",
   "metadata": {},
   "source": [
    "## Latitude vs. Wind Speed Plot"
   ]
  },
  {
   "cell_type": "code",
   "execution_count": 55,
   "metadata": {},
   "outputs": [
    {
     "data": {
      "image/png": "[encoded data removed]",
      "text/plain": [
       "<Figure size 432x288 with 1 Axes>"
      ]
     },
     "metadata": {
      "needs_background": "light"
     },
     "output_type": "display_data"
    }
   ],
   "source": [
    "plt.scatter(df[\"Lat\"], df[\"Wind Speed\"], edgecolor=\"black\")\n",
    "\n",
    "plt.title(\"City Latitude vs. Wind Speed\")\n",
    "plt.xlabel(\"Latitude\")\n",
    "plt.ylabel(\"Wind Speed\")\n",
    "plt.grid(True)\n",
    "\n",
    "plt.savefig(\"City Latitude vs. Wind Speed.png\")"
   ]
  },
  {
   "cell_type": "markdown",
   "metadata": {},
   "source": [
    "## Linear Regression"
   ]
  },
  {
   "cell_type": "code",
   "execution_count": 63,
   "metadata": {},
   "outputs": [
    {
     "data": {
      "text/html": [
       "<div>\n",
       "<style scoped>\n",
       "    .dataframe tbody tr th:only-of-type {\n",
       "        vertical-align: middle;\n",
       "    }\n",
       "\n",
       "    .dataframe tbody tr th {\n",
       "        vertical-align: top;\n",
       "    }\n",
       "\n",
       "    .dataframe thead th {\n",
       "        text-align: right;\n",
       "    }\n",
       "</style>\n",
       "<table border=\"1\" class=\"dataframe\">\n",
       "  <thead>\n",
       "    <tr style=\"text-align: right;\">\n",
       "      <th></th>\n",
       "      <th>City</th>\n",
       "      <th>Lat</th>\n",
       "      <th>Lng</th>\n",
       "      <th>Max temp</th>\n",
       "      <th>Humidity</th>\n",
       "      <th>Cloudiness</th>\n",
       "      <th>Wind Speed</th>\n",
       "      <th>Country</th>\n",
       "    </tr>\n",
       "  </thead>\n",
       "  <tbody>\n",
       "    <tr>\n",
       "      <th>1</th>\n",
       "      <td>bethel</td>\n",
       "      <td>41.37</td>\n",
       "      <td>-73.41</td>\n",
       "      <td>69.01</td>\n",
       "      <td>72</td>\n",
       "      <td>1</td>\n",
       "      <td>3.80</td>\n",
       "      <td>US</td>\n",
       "    </tr>\n",
       "    <tr>\n",
       "      <th>3</th>\n",
       "      <td>pervomayskoye</td>\n",
       "      <td>43.92</td>\n",
       "      <td>46.71</td>\n",
       "      <td>69.12</td>\n",
       "      <td>60</td>\n",
       "      <td>0</td>\n",
       "      <td>10.40</td>\n",
       "      <td>RU</td>\n",
       "    </tr>\n",
       "    <tr>\n",
       "      <th>5</th>\n",
       "      <td>weligama</td>\n",
       "      <td>5.97</td>\n",
       "      <td>80.42</td>\n",
       "      <td>78.84</td>\n",
       "      <td>86</td>\n",
       "      <td>100</td>\n",
       "      <td>5.95</td>\n",
       "      <td>LK</td>\n",
       "    </tr>\n",
       "    <tr>\n",
       "      <th>6</th>\n",
       "      <td>kapaa</td>\n",
       "      <td>22.08</td>\n",
       "      <td>-159.32</td>\n",
       "      <td>80.60</td>\n",
       "      <td>78</td>\n",
       "      <td>75</td>\n",
       "      <td>16.11</td>\n",
       "      <td>US</td>\n",
       "    </tr>\n",
       "    <tr>\n",
       "      <th>9</th>\n",
       "      <td>hasaki</td>\n",
       "      <td>35.73</td>\n",
       "      <td>140.83</td>\n",
       "      <td>68.00</td>\n",
       "      <td>94</td>\n",
       "      <td>75</td>\n",
       "      <td>17.22</td>\n",
       "      <td>JP</td>\n",
       "    </tr>\n",
       "  </tbody>\n",
       "</table>\n",
       "</div>"
      ],
      "text/plain": [
       "            City    Lat     Lng  Max temp  Humidity  Cloudiness  Wind Speed  \\\n",
       "1         bethel  41.37  -73.41     69.01        72           1        3.80   \n",
       "3  pervomayskoye  43.92   46.71     69.12        60           0       10.40   \n",
       "5       weligama   5.97   80.42     78.84        86         100        5.95   \n",
       "6          kapaa  22.08 -159.32     80.60        78          75       16.11   \n",
       "9         hasaki  35.73  140.83     68.00        94          75       17.22   \n",
       "\n",
       "  Country  \n",
       "1      US  \n",
       "3      RU  \n",
       "5      LK  \n",
       "6      US  \n",
       "9      JP  "
      ]
     },
     "execution_count": 63,
     "metadata": {},
     "output_type": "execute_result"
    }
   ],
   "source": [
    "northen_hemisphere = df.loc[df[\"Lat\"] >=0,:]\n",
    "northen_hemisphere.head()"
   ]
  },
  {
   "cell_type": "markdown",
   "metadata": {},
   "source": [
    "####  Northern Hemisphere - Max Temp vs. Latitude Linear Regression"
   ]
  },
  {
   "cell_type": "code",
   "execution_count": 78,
   "metadata": {},
   "outputs": [
    {
     "name": "stdout",
     "output_type": "stream",
     "text": [
      "The r-squared is: 0.7022744718745065\n"
     ]
    },
    {
     "data": {
      "image/png": "[encoded data removed]",
      "text/plain": [
       "<Figure size 432x288 with 1 Axes>"
      ]
     },
     "metadata": {
      "needs_background": "light"
     },
     "output_type": "display_data"
    }
   ],
   "source": [
    "# Print out the r-squared value along with the plot.\n",
    "x_values = northen_hemisphere[\"Lat\"]\n",
    "y_values = northen_hemisphere[\"Max temp\"]\n",
    "(slope, intercept, rvalue, pvalue, stderr) = stats.linregress(x_values, y_values)\n",
    "regress_values = x_values * slope + intercept\n",
    "line_eq = \"y = \" + str(round(slope,2)) + \"x + \" + str(round(intercept,2))\n",
    "\n",
    "plt.scatter(x_values,y_values)\n",
    "plt.plot(x_values,regress_values,\"r-\")\n",
    "plt.annotate(line_eq,(5,25),fontsize=15,color=\"red\")\n",
    "plt.xlabel(\"Latitude\")\n",
    "plt.ylabel(\"Max Temp\")\n",
    "print(f\"The r-squared is: {rvalue**2}\")"
   ]
  },
  {
   "cell_type": "markdown",
   "metadata": {},
   "source": [
    "####  Southern Hemisphere - Max Temp vs. Latitude Linear Regression"
   ]
  },
  {
   "cell_type": "code",
   "execution_count": 79,
   "metadata": {},
   "outputs": [
    {
     "data": {
      "text/html": [
       "<div>\n",
       "<style scoped>\n",
       "    .dataframe tbody tr th:only-of-type {\n",
       "        vertical-align: middle;\n",
       "    }\n",
       "\n",
       "    .dataframe tbody tr th {\n",
       "        vertical-align: top;\n",
       "    }\n",
       "\n",
       "    .dataframe thead th {\n",
       "        text-align: right;\n",
       "    }\n",
       "</style>\n",
       "<table border=\"1\" class=\"dataframe\">\n",
       "  <thead>\n",
       "    <tr style=\"text-align: right;\">\n",
       "      <th></th>\n",
       "      <th>City</th>\n",
       "      <th>Lat</th>\n",
       "      <th>Lng</th>\n",
       "      <th>Max temp</th>\n",
       "      <th>Humidity</th>\n",
       "      <th>Cloudiness</th>\n",
       "      <th>Wind Speed</th>\n",
       "      <th>Country</th>\n",
       "    </tr>\n",
       "  </thead>\n",
       "  <tbody>\n",
       "    <tr>\n",
       "      <th>0</th>\n",
       "      <td>kavieng</td>\n",
       "      <td>-2.57</td>\n",
       "      <td>150.80</td>\n",
       "      <td>82.63</td>\n",
       "      <td>69</td>\n",
       "      <td>2</td>\n",
       "      <td>7.76</td>\n",
       "      <td>PG</td>\n",
       "    </tr>\n",
       "    <tr>\n",
       "      <th>2</th>\n",
       "      <td>punta arenas</td>\n",
       "      <td>-53.15</td>\n",
       "      <td>-70.92</td>\n",
       "      <td>50.00</td>\n",
       "      <td>61</td>\n",
       "      <td>75</td>\n",
       "      <td>27.51</td>\n",
       "      <td>CL</td>\n",
       "    </tr>\n",
       "    <tr>\n",
       "      <th>4</th>\n",
       "      <td>rikitea</td>\n",
       "      <td>-23.12</td>\n",
       "      <td>-134.97</td>\n",
       "      <td>72.14</td>\n",
       "      <td>80</td>\n",
       "      <td>54</td>\n",
       "      <td>11.68</td>\n",
       "      <td>PF</td>\n",
       "    </tr>\n",
       "    <tr>\n",
       "      <th>7</th>\n",
       "      <td>cape town</td>\n",
       "      <td>-33.93</td>\n",
       "      <td>18.42</td>\n",
       "      <td>77.00</td>\n",
       "      <td>31</td>\n",
       "      <td>0</td>\n",
       "      <td>6.93</td>\n",
       "      <td>ZA</td>\n",
       "    </tr>\n",
       "    <tr>\n",
       "      <th>8</th>\n",
       "      <td>atuona</td>\n",
       "      <td>-9.80</td>\n",
       "      <td>-139.03</td>\n",
       "      <td>77.61</td>\n",
       "      <td>76</td>\n",
       "      <td>15</td>\n",
       "      <td>19.57</td>\n",
       "      <td>PF</td>\n",
       "    </tr>\n",
       "  </tbody>\n",
       "</table>\n",
       "</div>"
      ],
      "text/plain": [
       "           City    Lat     Lng  Max temp  Humidity  Cloudiness  Wind Speed  \\\n",
       "0       kavieng  -2.57  150.80     82.63        69           2        7.76   \n",
       "2  punta arenas -53.15  -70.92     50.00        61          75       27.51   \n",
       "4       rikitea -23.12 -134.97     72.14        80          54       11.68   \n",
       "7     cape town -33.93   18.42     77.00        31           0        6.93   \n",
       "8        atuona  -9.80 -139.03     77.61        76          15       19.57   \n",
       "\n",
       "  Country  \n",
       "0      PG  \n",
       "2      CL  \n",
       "4      PF  \n",
       "7      ZA  \n",
       "8      PF  "
      ]
     },
     "execution_count": 79,
     "metadata": {},
     "output_type": "execute_result"
    }
   ],
   "source": [
    "southern_hemisphere = df.loc[df[\"Lat\"] < 0,:]\n",
    "southern_hemisphere.head()"
   ]
  },
  {
   "cell_type": "code",
   "execution_count": 82,
   "metadata": {},
   "outputs": [
    {
     "name": "stdout",
     "output_type": "stream",
     "text": [
      "The r-squared is: 0.5209571842371694\n"
     ]
    },
    {
     "data": {
      "image/png": "[encoded data removed]",
      "text/plain": [
       "<Figure size 432x288 with 1 Axes>"
      ]
     },
     "metadata": {
      "needs_background": "light"
     },
     "output_type": "display_data"
    }
   ],
   "source": [
    "x_values = southern_hemisphere[\"Lat\"]\n",
    "y_values = southern_hemisphere[\"Max temp\"]\n",
    "(slope, intercept, rvalue, pvalue, stderr) = stats.linregress(x_values, y_values)\n",
    "regress_values = x_values * slope + intercept\n",
    "line_eq = \"y = \" + str(round(slope,2)) + \"x + \" + str(round(intercept,2))\n",
    "\n",
    "plt.scatter(x_values,y_values)\n",
    "plt.plot(x_values,regress_values,\"r-\")\n",
    "plt.annotate(line_eq,(-50,95),fontsize=15,color=\"red\")\n",
    "plt.xlabel(\"Latitude\")\n",
    "plt.ylabel(\"Max Temp\")\n",
    "print(f\"The r-squared is: {rvalue**2}\")"
   ]
  },
  {
   "cell_type": "markdown",
   "metadata": {},
   "source": [
    "####  Northern Hemisphere - Humidity (%) vs. Latitude Linear Regression"
   ]
  },
  {
   "cell_type": "code",
   "execution_count": 85,
   "metadata": {},
   "outputs": [
    {
     "name": "stdout",
     "output_type": "stream",
     "text": [
      "The r-squared is: 0.011583637917421032\n"
     ]
    },
    {
     "data": {
      "image/png": "[encoded data removed]",
      "text/plain": [
       "<Figure size 432x288 with 1 Axes>"
      ]
     },
     "metadata": {
      "needs_background": "light"
     },
     "output_type": "display_data"
    }
   ],
   "source": [
    "x_values = northen_hemisphere[\"Lat\"]\n",
    "y_values = northen_hemisphere[\"Humidity\"]\n",
    "(slope, intercept, rvalue, pvalue, stderr) = stats.linregress(x_values, y_values)\n",
    "regress_values = x_values * slope + intercept\n",
    "line_eq = \"y = \" + str(round(slope,2)) + \"x + \" + str(round(intercept,2))\n",
    "\n",
    "plt.scatter(x_values,y_values)\n",
    "plt.plot(x_values,regress_values,\"r-\")\n",
    "plt.annotate(line_eq,(45,20),fontsize=15,color=\"red\")\n",
    "plt.xlabel(\"Latitude\")\n",
    "plt.ylabel(\"Humidity\")\n",
    "print(f\"The r-squared is: {rvalue**2}\")"
   ]
  },
  {
   "cell_type": "markdown",
   "metadata": {},
   "source": [
    "####  Southern Hemisphere - Humidity (%) vs. Latitude Linear Regression"
   ]
  },
  {
   "cell_type": "code",
   "execution_count": 88,
   "metadata": {},
   "outputs": [
    {
     "name": "stdout",
     "output_type": "stream",
     "text": [
      "The r-squared is: 0.011446238123801524\n"
     ]
    },
    {
     "data": {
      "image/png": "[encoded data removed]",
      "text/plain": [
       "<Figure size 432x288 with 1 Axes>"
      ]
     },
     "metadata": {
      "needs_background": "light"
     },
     "output_type": "display_data"
    }
   ],
   "source": [
    "x_values = southern_hemisphere[\"Lat\"]\n",
    "y_values = southern_hemisphere[\"Humidity\"]\n",
    "(slope, intercept, rvalue, pvalue, stderr) = stats.linregress(x_values, y_values)\n",
    "regress_values = x_values * slope + intercept\n",
    "line_eq = \"y = \" + str(round(slope,2)) + \"x + \" + str(round(intercept,2))\n",
    "\n",
    "plt.scatter(x_values,y_values)\n",
    "plt.plot(x_values,regress_values,\"r-\")\n",
    "plt.annotate(line_eq,(-50,10),fontsize=15,color=\"red\")\n",
    "plt.xlabel(\"Latitude\")\n",
    "plt.ylabel(\"Humidity\")\n",
    "print(f\"The r-squared is: {rvalue**2}\")"
   ]
  },
  {
   "cell_type": "markdown",
   "metadata": {},
   "source": [
    "####  Northern Hemisphere - Cloudiness (%) vs. Latitude Linear Regression"
   ]
  },
  {
   "cell_type": "code",
   "execution_count": 95,
   "metadata": {},
   "outputs": [
    {
     "name": "stdout",
     "output_type": "stream",
     "text": [
      "The r-squared is: 0.0017582493429440667\n"
     ]
    },
    {
     "data": {
      "image/png": "[encoded data removed]",
      "text/plain": [
       "<Figure size 432x288 with 1 Axes>"
      ]
     },
     "metadata": {
      "needs_background": "light"
     },
     "output_type": "display_data"
    }
   ],
   "source": [
    "x_values = northen_hemisphere[\"Lat\"]\n",
    "y_values = northen_hemisphere[\"Cloudiness\"]\n",
    "(slope, intercept, rvalue, pvalue, stderr) = stats.linregress(x_values, y_values)\n",
    "regress_values = x_values * slope + intercept\n",
    "line_eq = \"y = \" + str(round(slope,2)) + \"x + \" + str(round(intercept,2))\n",
    "\n",
    "plt.scatter(x_values,y_values)\n",
    "plt.plot(x_values,regress_values,\"r-\")\n",
    "plt.annotate(line_eq,(35,45),fontsize=15,color=\"red\")\n",
    "plt.xlabel(\"Latitude\")\n",
    "plt.ylabel(\"Cloudiness\")\n",
    "print(f\"The r-squared is: {rvalue**2}\")"
   ]
  },
  {
   "cell_type": "markdown",
   "metadata": {},
   "source": [
    "####  Southern Hemisphere - Cloudiness (%) vs. Latitude Linear Regression"
   ]
  },
  {
   "cell_type": "code",
   "execution_count": 103,
   "metadata": {},
   "outputs": [
    {
     "name": "stdout",
     "output_type": "stream",
     "text": [
      "The r-squared is: 0.008181176151736155\n"
     ]
    },
    {
     "data": {
      "image/png": "[encoded data removed]",
      "text/plain": [
       "<Figure size 432x288 with 1 Axes>"
      ]
     },
     "metadata": {
      "needs_background": "light"
     },
     "output_type": "display_data"
    }
   ],
   "source": [
    "x_values = southern_hemisphere[\"Lat\"]\n",
    "y_values = southern_hemisphere[\"Cloudiness\"]\n",
    "(slope, intercept, rvalue, pvalue, stderr) = stats.linregress(x_values, y_values)\n",
    "regress_values = x_values * slope + intercept\n",
    "line_eq = \"y = \" + str(round(slope,2)) + \"x + \" + str(round(intercept,2))\n",
    "\n",
    "plt.scatter(x_values,y_values)\n",
    "plt.plot(x_values,regress_values,\"r-\")\n",
    "plt.annotate(line_eq,(-55,61),fontsize=15,color=\"red\")\n",
    "plt.xlabel(\"Latitude\")\n",
    "plt.ylabel(\"Cloudiness\")\n",
    "print(f\"The r-squared is: {rvalue**2}\")"
   ]
  },
  {
   "cell_type": "markdown",
   "metadata": {},
   "source": [
    "####  Northern Hemisphere - Wind Speed (mph) vs. Latitude Linear Regression"
   ]
  },
  {
   "cell_type": "code",
   "execution_count": 98,
   "metadata": {},
   "outputs": [
    {
     "name": "stdout",
     "output_type": "stream",
     "text": [
      "The r-squared is: 0.04541441014095687\n"
     ]
    },
    {
     "data": {
      "image/png": "[encoded data removed]",
      "text/plain": [
       "<Figure size 432x288 with 1 Axes>"
      ]
     },
     "metadata": {
      "needs_background": "light"
     },
     "output_type": "display_data"
    }
   ],
   "source": [
    "x_values = northen_hemisphere[\"Lat\"]\n",
    "y_values = northen_hemisphere[\"Wind Speed\"]\n",
    "(slope, intercept, rvalue, pvalue, stderr) = stats.linregress(x_values, y_values)\n",
    "regress_values = x_values * slope + intercept\n",
    "line_eq = \"y = \" + str(round(slope,2)) + \"x + \" + str(round(intercept,2))\n",
    "\n",
    "plt.scatter(x_values,y_values)\n",
    "plt.plot(x_values,regress_values,\"r-\")\n",
    "plt.annotate(line_eq,(5,30),fontsize=15,color=\"red\")\n",
    "plt.xlabel(\"Latitude\")\n",
    "plt.ylabel(\"Wind Speed\")\n",
    "print(f\"The r-squared is: {rvalue**2}\")"
   ]
  },
  {
   "cell_type": "markdown",
   "metadata": {},
   "source": [
    "####  Southern Hemisphere - Wind Speed (mph) vs. Latitude Linear Regression"
   ]
  },
  {
   "cell_type": "code",
   "execution_count": 106,
   "metadata": {},
   "outputs": [
    {
     "name": "stdout",
     "output_type": "stream",
     "text": [
      "The r-squared is: 1.4703548377927139e-06\n"
     ]
    },
    {
     "data": {
      "image/png": "[encoded data removed]",
      "text/plain": [
       "<Figure size 432x288 with 1 Axes>"
      ]
     },
     "metadata": {
      "needs_background": "light"
     },
     "output_type": "display_data"
    }
   ],
   "source": [
    "x_values = southern_hemisphere[\"Lat\"]\n",
    "y_values = southern_hemisphere[\"Wind Speed\"]\n",
    "(slope, intercept, rvalue, pvalue, stderr) = stats.linregress(x_values, y_values)\n",
    "regress_values = x_values * slope + intercept\n",
    "line_eq = \"y = \" + str(round(slope,2)) + \"x + \" + str(round(intercept,2))\n",
    "\n",
    "plt.scatter(x_values,y_values)\n",
    "plt.plot(x_values,regress_values,\"r-\")\n",
    "plt.annotate(line_eq,(-50,25),fontsize=15,color=\"red\")\n",
    "plt.xlabel(\"Latitude\")\n",
    "plt.ylabel(\"Wind Speed\")\n",
    "print(f\"The r-squared is: {rvalue**2}\")"
   ]
  },
  {
   "cell_type": "code",
   "execution_count": null,
   "metadata": {},
   "outputs": [],
   "source": []
  }
 ],
 "metadata": {
  "anaconda-cloud": {},
  "kernel_info": {
   "name": "python3"
  },
  "kernelspec": {
   "display_name": "Python [conda env:PythonA] *",
   "language": "python",
   "name": "conda-env-PythonA-py"
  },
  "language_info": {
   "codemirror_mode": {
    "name": "ipython",
    "version": 3
   },
   "file_extension": ".py",
   "mimetype": "text/x-python",
   "name": "python",
   "nbconvert_exporter": "python",
   "pygments_lexer": "ipython3",
   "version": "3.6.10"
  },
  "latex_envs": {
   "LaTeX_envs_menu_present": true,
   "autoclose": false,
   "autocomplete": true,
   "bibliofile": "biblio.bib",
   "cite_by": "apalike",
   "current_citInitial": 1,
   "eqLabelWithNumbers": true,
   "eqNumInitial": 1,
   "hotkeys": {
    "equation": "Ctrl-E",
    "itemize": "Ctrl-I"
   },
   "labels_anchors": false,
   "latex_user_defs": false,
   "report_style_numbering": false,
   "user_envs_cfg": false
  },
  "nteract": {
   "version": "0.12.3"
  }
 },
 "nbformat": 4,
 "nbformat_minor": 2
}
